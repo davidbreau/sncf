{
 "cells": [
  {
   "cell_type": "code",
   "execution_count": 8,
   "metadata": {},
   "outputs": [],
   "source": [
    "import requests\n",
    "import datetime\n",
    "import sqlite3\n",
    "from B_crud import creer_gare, update_gare, update_frequentation_gare"
   ]
  },
  {
   "cell_type": "code",
   "execution_count": 9,
   "metadata": {},
   "outputs": [],
   "source": [
    "gares = ['Paris Gare de Lyon', 'Paris Montparnasse', 'Paris Gare du Nord', 'Paris Saint-Lazare', 'Paris Est', 'Paris Austerlitz', \"Paris Bercy Bourgogne - Pays d'Auvergne\"]"
   ]
  },
  {
   "cell_type": "code",
   "execution_count": 10,
   "metadata": {},
   "outputs": [],
   "source": [
    "for gare in gares:\n",
    "    params = {\n",
    "            'dataset': ['referentiel-gares-voyageurs'], \n",
    "            'refine.gare_alias_libelle_noncontraint': gare,\n",
    "            }\n",
    "    url = \"https://ressources.data.sncf.com/api/records/1.0/search/?\"\n",
    "    response = requests.get(url, params=params)\n",
    "    data = response.json()\n",
    "    lat = data['records'][0]['fields']['wgs_84'][0]\n",
    "    lon = data['records'][0]['fields']['wgs_84'][1]\n",
    "    creer_gare(gare, lat, lon)"
   ]
  },
  {
   "cell_type": "code",
   "execution_count": 14,
   "metadata": {},
   "outputs": [],
   "source": [
    "for gare in gares:\n",
    "    params = {\n",
    "        'dataset' : ['frequentation-gares'],\n",
    "        'refine.nom_gare' : gare\n",
    "    }\n",
    "    url = \"https://ressources.data.sncf.com/api/records/1.0/search/?\"\n",
    "    response = requests.get(url, params=params)\n",
    "    data = response.json()\n",
    "    frequentation_2019 = data['records'][0]['fields']['total_voyageurs_2019']\n",
    "    frequentation_2020 = data['records'][0]['fields']['total_voyageurs_2020']\n",
    "    frequentation_2021 = data['records'][0]['fields']['total_voyageurs_2021']\n",
    "    frequentation_2022 = data['records'][0]['fields']['total_voyageurs_2021']+1\n",
    "    update_frequentation_gare(gare, frequentation_2019, frequentation_2020, frequentation_2021, frequentation_2022)\n"
   ]
  },
  {
   "cell_type": "code",
   "execution_count": 12,
   "metadata": {},
   "outputs": [],
   "source": [
    "update_gare(\"Paris Bercy Bourgogne - Pays d'Auvergne\", \"Paris Bercy\")"
   ]
  }
 ],
 "metadata": {
  "kernelspec": {
   "display_name": "Python 3",
   "language": "python",
   "name": "python3"
  },
  "language_info": {
   "codemirror_mode": {
    "name": "ipython",
    "version": 3
   },
   "file_extension": ".py",
   "mimetype": "text/x-python",
   "name": "python",
   "nbconvert_exporter": "python",
   "pygments_lexer": "ipython3",
   "version": "3.10.6"
  },
  "orig_nbformat": 4
 },
 "nbformat": 4,
 "nbformat_minor": 2
}
