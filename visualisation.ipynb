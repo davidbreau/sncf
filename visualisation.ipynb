{
 "cells": [
  {
   "cell_type": "code",
   "execution_count": 7,
   "metadata": {},
   "outputs": [],
   "source": [
    "import pandas as pd\n",
    "import numpy as np\n",
    "import plotly.express as px\n",
    "import sqlite3\n",
    "import folium"
   ]
  },
  {
   "cell_type": "code",
   "execution_count": 9,
   "metadata": {},
   "outputs": [
    {
     "ename": "NameError",
     "evalue": "name 'df_objet' is not defined",
     "output_type": "error",
     "traceback": [
      "\u001b[0;31m---------------------------------------------------------------------------\u001b[0m",
      "\u001b[0;31mNameError\u001b[0m                                 Traceback (most recent call last)",
      "Cell \u001b[0;32mIn[9], line 37\u001b[0m\n\u001b[1;32m     34\u001b[0m annee \u001b[39m=\u001b[39m st\u001b[39m.\u001b[39mselectbox(\u001b[39m\"\u001b[39m\u001b[39mSélectionnez l\u001b[39m\u001b[39m'\u001b[39m\u001b[39mannée :\u001b[39m\u001b[39m\"\u001b[39m, annees, key\u001b[39m=\u001b[39m\u001b[39m2\u001b[39m)\n\u001b[1;32m     36\u001b[0m type_objet \u001b[39m=\u001b[39m st\u001b[39m.\u001b[39mmultiselect(\u001b[39m\"\u001b[39m\u001b[39mSélectionnez le type d\u001b[39m\u001b[39m'\u001b[39m\u001b[39mobjet :\u001b[39m\u001b[39m\"\u001b[39m, types, default\u001b[39m=\u001b[39mtypes[:], key\u001b[39m=\u001b[39m\u001b[39m4\u001b[39m)\n\u001b[0;32m---> 37\u001b[0m df_filtre \u001b[39m=\u001b[39m df[(df_objet[\u001b[39m'\u001b[39m\u001b[39mtype\u001b[39m\u001b[39m'\u001b[39m]\u001b[39m.\u001b[39misin(type_objet)) \u001b[39m&\u001b[39m (df_objet[\u001b[39m'\u001b[39m\u001b[39mdate\u001b[39m\u001b[39m'\u001b[39m]\u001b[39m.\u001b[39mstr[\u001b[39m-\u001b[39m\u001b[39m4\u001b[39m:] \u001b[39m==\u001b[39m annee)]\n\u001b[1;32m     39\u001b[0m \u001b[39m# Agrégation par gare\u001b[39;00m\n\u001b[1;32m     40\u001b[0m df_agg \u001b[39m=\u001b[39m df_filtre\u001b[39m.\u001b[39mgroupby(\u001b[39m'\u001b[39m\u001b[39mgare\u001b[39m\u001b[39m'\u001b[39m)\u001b[39m.\u001b[39magg({\u001b[39m'\u001b[39m\u001b[39mid\u001b[39m\u001b[39m'\u001b[39m: \u001b[39m'\u001b[39m\u001b[39mcount\u001b[39m\u001b[39m'\u001b[39m, \u001b[39m'\u001b[39m\u001b[39mdate\u001b[39m\u001b[39m'\u001b[39m: \u001b[39m'\u001b[39m\u001b[39mnunique\u001b[39m\u001b[39m'\u001b[39m})\u001b[39m.\u001b[39mreset_index()\n",
      "\u001b[0;31mNameError\u001b[0m: name 'df_objet' is not defined"
     ]
    }
   ],
   "source": [
    "############ DEUXIEME CARTE\n",
    "############\n",
    "# Création de la liste des années disponibles\n",
    "\n",
    "annees = ['2019', '2020', '2021', '2022']\n",
    "# Création de la liste des types d'objets disponibles\n",
    "\n",
    "# Connexion à la base de données\n",
    "connexion = sqlite3.connect('bdd.db')\n",
    "\n",
    "# Lecture de la table objet\n",
    "# Récupération des données de la table objet\n",
    "query_objet = \"SELECT * FROM objet\"\n",
    "df = pd.read_sql_query(query_objet, connexion)\n",
    "types = df['type'].unique().tolist()\n",
    "\n",
    "# Récupération des données de la table gare\n",
    "query_gare = \"SELECT * FROM gare\"\n",
    "df_gare = pd.read_sql_query(query_gare, connexion)\n",
    "\n",
    "gares = df_gare.gare.unique()\n",
    "dict_geo_gare = {}\n",
    "for gare in gares:\n",
    "    lat = df_gare.loc[df_gare['gare'] == gare, 'lat'].values[0]\n",
    "    long = df_gare.loc[df_gare['gare'] == gare, 'lon'].values[0]\n",
    "    dict = {'lat': lat, 'long':long}\n",
    "    dict_geo_gare[gare] = dict\n",
    "\n",
    "\n",
    "# Transformation de la colonne 'date' en datetime\n",
    "df['date'] = pd.to_datetime(df['date'], format='%d/%m/%Y')\n",
    "\n",
    "# Filtrage par année et type d'objet\n",
    "annee = st.selectbox(\"Sélectionnez l'année :\", annees, key=2)\n",
    "\n",
    "type_objet = st.multiselect(\"Sélectionnez le type d'objet :\", types, default=types[:], key=4)\n",
    "df_filtre = df[(df_objet['type'].isin(type_objet)) & (df_objet['date'].str[-4:] == annee)]\n",
    "\n",
    "# Agrégation par gare\n",
    "df_agg = df_filtre.groupby('gare').agg({'id': 'count', 'date': 'nunique'}).reset_index()\n",
    "df_agg.rename(columns={'id': 'nombre_objets', 'date': 'nombre_jours'}, inplace=True)\n",
    "\n",
    "# Création de la carte de Paris\n",
    "paris_map = folium.Map(location=[48.864716, 2.349014], zoom_start=12)\n",
    "\n",
    "# Ajout des barres pour chaque gare\n",
    "for _, row in df_agg.iterrows():\n",
    "    nom_gare = row['gare']\n",
    "    lat = dict_geo_gare[nom_gare]['lat']\n",
    "    long = dict_geo_gare[nom_gare]['long']\n",
    "    nombre_objets = row['nombre_objets']\n",
    "    nombre_jours = row['nombre_jours']\n",
    "    \n",
    "    popup_text = f\"{nom_gare}<br>Nombre d'objets: {nombre_objets}<br>Nombre de jours: {nombre_jours}\"\n",
    "    folium.Marker([lat, long], popup=popup_text).add_to(paris_map)\n",
    "\n",
    "    folium.vector_layers.Rectangle(\n",
    "        bounds=((lat - 0.002, long - 0.002), (lat + 0.002, long + 0.002)),\n",
    "        fill=True,\n",
    "        fill_color='blue',\n",
    "        fill_opacity=0.5,\n",
    "        color=None,\n",
    "        weight=0,\n",
    "        tooltip=f\"Nombre de jours: {nombre_jours}\",\n",
    "        ).add_to(paris_map)\n",
    "\n",
    "    folium.vector_layers.Rectangle(\n",
    "        bounds=((lat - 0.002, long + 0.002), (lat + 0.002, long + 0.006 * nombre_objets)),\n",
    "        fill=True,\n",
    "        fill_color='red',\n",
    "        fill_opacity=0.5,\n",
    "        color=None,\n",
    "        weight=0,\n",
    "        tooltip=f\"Nombre d'objets: {nombre_objets}\",\n",
    "        ).add_to(paris_map)\n",
    "\n",
    "# Affichage de la carte\n",
    "paris_map"
   ]
  }
 ],
 "metadata": {
  "kernelspec": {
   "display_name": "Python 3",
   "language": "python",
   "name": "python3"
  },
  "language_info": {
   "codemirror_mode": {
    "name": "ipython",
    "version": 3
   },
   "file_extension": ".py",
   "mimetype": "text/x-python",
   "name": "python",
   "nbconvert_exporter": "python",
   "pygments_lexer": "ipython3",
   "version": "3.10.8"
  },
  "orig_nbformat": 4
 },
 "nbformat": 4,
 "nbformat_minor": 2
}
