{
 "cells": [
  {
   "cell_type": "code",
   "execution_count": 6,
   "metadata": {},
   "outputs": [],
   "source": [
    "import requests\n",
    "import datetime\n",
    "import sqlite3"
   ]
  },
  {
   "cell_type": "code",
   "execution_count": 7,
   "metadata": {},
   "outputs": [],
   "source": [
    "gares = ['Paris Gare de Lyon', 'Paris Montparnasse', 'Paris Gare du Nord', 'Paris Saint-Lazare', 'Paris Est', 'Paris Austerlitz', 'Paris Bercy']\n",
    "def format_date(x):\n",
    "    return x[8:10]+'/'+x[5:7]+'/'+x[0:4]\n",
    "# 2023-04-07T09:00:48.019Z"
   ]
  },
  {
   "cell_type": "code",
   "execution_count": 8,
   "metadata": {},
   "outputs": [],
   "source": [
    "connexion = sqlite3.connect('bdd.db')\n",
    "curseur = connexion.cursor()\n",
    "for annee in [2019,2020,2021,2022]: \n",
    "    for gare in gares: \n",
    "        params = {\n",
    "            'rows' : '10000',\n",
    "            'dataset': ['objets-trouves-restitution'],\n",
    "            'facet': ['date', 'gc_obo_gare_origine_r_name', 'gc_obo_nature_c', 'gc_obo_type_c'],\n",
    "            'refine.date': annee,\n",
    "            'refine.gc_obo_gare_origine_r_name': gare\n",
    "            }\n",
    "        url = \"https://ressources.data.sncf.com/api/records/1.0/search/?\"\n",
    "        response = requests.get(url, params=params)\n",
    "        data = response.json()\n",
    "        for record in data['records']:\n",
    "            type = record['fields']['gc_obo_type_c']\n",
    "            nature = record['fields']['gc_obo_nature_c']\n",
    "            date = record['fields']['date']\n",
    "            gare = record['fields']['gc_obo_gare_origine_r_name']\n",
    "            curseur.execute(\"\"\"\n",
    "                 INSERT INTO objet \n",
    "                 VALUES (NULL, ?, ?, ?, ?)\n",
    "                 \"\"\", (type, nature, format_date(date), gare))\n",
    "    connexion.commit()\n",
    "connexion.close()"
   ]
  }
 ],
 "metadata": {
  "kernelspec": {
   "display_name": "Python 3",
   "language": "python",
   "name": "python3"
  },
  "language_info": {
   "codemirror_mode": {
    "name": "ipython",
    "version": 3
   },
   "file_extension": ".py",
   "mimetype": "text/x-python",
   "name": "python",
   "nbconvert_exporter": "python",
   "pygments_lexer": "ipython3",
   "version": "3.10.6"
  },
  "orig_nbformat": 4
 },
 "nbformat": 4,
 "nbformat_minor": 2
}
