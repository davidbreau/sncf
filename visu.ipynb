{
 "cells": [
  {
   "cell_type": "code",
   "execution_count": 94,
   "metadata": {},
   "outputs": [
    {
     "ename": "ImportError",
     "evalue": "cannot import name 'FeatureGroupSubGr' from 'folium.plugins' (/home/apprenant/miniconda3/lib/python3.10/site-packages/folium/plugins/__init__.py)",
     "output_type": "error",
     "traceback": [
      "\u001b[0;31m---------------------------------------------------------------------------\u001b[0m",
      "\u001b[0;31mImportError\u001b[0m                               Traceback (most recent call last)",
      "Cell \u001b[0;32mIn[94], line 4\u001b[0m\n\u001b[1;32m      2\u001b[0m \u001b[39mimport\u001b[39;00m \u001b[39mpandas\u001b[39;00m \u001b[39mas\u001b[39;00m \u001b[39mpd\u001b[39;00m\n\u001b[1;32m      3\u001b[0m \u001b[39mimport\u001b[39;00m \u001b[39mfolium\u001b[39;00m\n\u001b[0;32m----> 4\u001b[0m \u001b[39mfrom\u001b[39;00m \u001b[39mfolium\u001b[39;00m\u001b[39m.\u001b[39;00m\u001b[39mplugins\u001b[39;00m \u001b[39mimport\u001b[39;00m FeatureGroupSubGr\n",
      "\u001b[0;31mImportError\u001b[0m: cannot import name 'FeatureGroupSubGr' from 'folium.plugins' (/home/apprenant/miniconda3/lib/python3.10/site-packages/folium/plugins/__init__.py)"
     ]
    }
   ],
   "source": [
    "import sqlite3\n",
    "import pandas as pd\n",
    "import folium\n",
    "from folium.plugins import FeatureGroupSubGr"
   ]
  },
  {
   "cell_type": "code",
   "execution_count": null,
   "metadata": {},
   "outputs": [
    {
     "data": {
      "text/plain": [
       "0     55824824\n",
       "1     32439307\n",
       "2     92236287\n",
       "3    114468385\n",
       "4     21580625\n",
       "5     13203603\n",
       "6      2498330\n",
       "Name: frequentation_2020, dtype: int64"
      ]
     },
     "execution_count": 87,
     "metadata": {},
     "output_type": "execute_result"
    }
   ],
   "source": [
    "# Connexion à la base de données\n",
    "conn = sqlite3.connect('bdd.db')\n",
    "\n",
    "# Création du DataFrame objet\n",
    "df_objet = pd.read_sql_query('SELECT * FROM objet', conn)\n",
    "df_gare = pd.read_sql_query('SELECT * FROM gare', conn)\n",
    "# Merge avec la table gare pour récupérer la latitude et longitude\n",
    "\n",
    "df_objet = df_objet.merge(pd.read_sql_query('SELECT gare, lat, lon FROM gare', conn), on='gare')\n",
    "\n",
    "df_gare['frequentation_2020']"
   ]
  },
  {
   "cell_type": "code",
   "execution_count": null,
   "metadata": {},
   "outputs": [
    {
     "name": "stdout",
     "output_type": "stream",
     "text": [
      "Paris Gare de Lyon\n",
      "Paris Montparnasse\n",
      "Paris Gare du Nord\n",
      "Paris Saint-Lazare\n",
      "Paris Est\n",
      "Paris Austerlitz\n",
      "Paris Bercy\n"
     ]
    }
   ],
   "source": [
    "for gare in df_gare.gare.unique():\n",
    "    print(gare)"
   ]
  },
  {
   "cell_type": "code",
   "execution_count": null,
   "metadata": {},
   "outputs": [
    {
     "data": {
      "text/plain": [
       "55824824"
      ]
     },
     "execution_count": 89,
     "metadata": {},
     "output_type": "execute_result"
    }
   ],
   "source": [
    "annee = 2020\n",
    "# frequentation = df_gare[f'frequentation_{annee}'].iloc[0]\n",
    "# frequentation\n",
    "\n",
    "df_gare['frequentation_2020'].iloc[0]"
   ]
  },
  {
   "cell_type": "code",
   "execution_count": null,
   "metadata": {},
   "outputs": [],
   "source": [
    "import json\n",
    "\n",
    "paris_map = folium.Map(location=[48.8566, 2.3522], zoom_start=12)\n",
    "\n",
    "# Pour chaque gare, création de deux barplots\n",
    "for gare in df_gare.gare.unique():\n",
    "    # Nombre d'objets trouvés par type\n",
    "    objets_par_type = df_objet.groupby('type')['id'].count()\n",
    "    barplot_objets = folium.FeatureGroup(name=\"Objets par type\")\n",
    "    for type_objet, nb_objets in objets_par_type.items():\n",
    "        folium.Marker(\n",
    "            location=[df_gare['lat'].iloc[0], df_gare['lon'].iloc[0]],\n",
    "            popup=f\"{type_objet}: {nb_objets} objets trouvés\",\n",
    "            icon=folium.Icon(color='red', icon='info-sign')\n",
    "        ).add_to(barplot_objets)\n",
    "\n",
    "    # Fréquentation sur une année donnée\n",
    "    annee = 2020  # Modifier pour l'année souhaitée\n",
    "    frequentation = df_gare[f'frequentation_{annee}'].iloc[0]\n",
    "    barplot_frequentation = folium.plugins.FeatureGroupSubGroup(\n",
    "        paris_map, folium.plugins.MarkerCluster())\n",
    "    folium.Marker(\n",
    "        location=[df_gare['lat'].iloc[0], df_gare['lon'].iloc[0]],\n",
    "        popup=f\"Fréquentation en {annee}: {frequentation} voyageurs\",\n",
    "        icon=folium.Icon(color='green', icon='stats')\n",
    "    ).add_to(barplot_frequentation)\n",
    "\n",
    "    # Ajout des barplots à la carte folium\n",
    "    barplot_objets.add_to(paris_map)\n",
    "    barplot_frequentation.add_to(paris_map)\n",
    "\n",
    "# Affichage de la carte folium\n",
    "folium.LayerControl().add_to(paris_map)\n",
    "paris_map._repr_html_ = lambda : json.dumps(paris_map.to_dict())\n",
    "paris_map"
   ]
  }
 ],
 "metadata": {
  "kernelspec": {
   "display_name": "Python 3",
   "language": "python",
   "name": "python3"
  },
  "language_info": {
   "codemirror_mode": {
    "name": "ipython",
    "version": 3
   },
   "file_extension": ".py",
   "mimetype": "text/x-python",
   "name": "python",
   "nbconvert_exporter": "python",
   "pygments_lexer": "ipython3",
   "version": "3.10.8"
  },
  "orig_nbformat": 4
 },
 "nbformat": 4,
 "nbformat_minor": 2
}
