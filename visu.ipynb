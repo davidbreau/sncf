{
 "cells": [
  {
   "cell_type": "code",
   "execution_count": 98,
   "metadata": {},
   "outputs": [],
   "source": [
    "import pandas as pd\n",
    "import streamlit as st\n",
    "import sqlite3\n",
    "import pydeck as pdk"
   ]
  },
  {
   "cell_type": "code",
   "execution_count": 106,
   "metadata": {},
   "outputs": [
    {
     "data": {
      "text/html": [
       "<div>\n",
       "<style scoped>\n",
       "    .dataframe tbody tr th:only-of-type {\n",
       "        vertical-align: middle;\n",
       "    }\n",
       "\n",
       "    .dataframe tbody tr th {\n",
       "        vertical-align: top;\n",
       "    }\n",
       "\n",
       "    .dataframe thead th {\n",
       "        text-align: right;\n",
       "    }\n",
       "</style>\n",
       "<table border=\"1\" class=\"dataframe\">\n",
       "  <thead>\n",
       "    <tr style=\"text-align: right;\">\n",
       "      <th></th>\n",
       "      <th>gare</th>\n",
       "      <th>nb_objets</th>\n",
       "    </tr>\n",
       "  </thead>\n",
       "  <tbody>\n",
       "    <tr>\n",
       "      <th>0</th>\n",
       "      <td>Paris Austerlitz</td>\n",
       "      <td>239</td>\n",
       "    </tr>\n",
       "    <tr>\n",
       "      <th>1</th>\n",
       "      <td>Paris Bercy</td>\n",
       "      <td>325</td>\n",
       "    </tr>\n",
       "    <tr>\n",
       "      <th>2</th>\n",
       "      <td>Paris Est</td>\n",
       "      <td>844</td>\n",
       "    </tr>\n",
       "    <tr>\n",
       "      <th>3</th>\n",
       "      <td>Paris Gare de Lyon</td>\n",
       "      <td>4358</td>\n",
       "    </tr>\n",
       "    <tr>\n",
       "      <th>4</th>\n",
       "      <td>Paris Gare du Nord</td>\n",
       "      <td>2101</td>\n",
       "    </tr>\n",
       "    <tr>\n",
       "      <th>5</th>\n",
       "      <td>Paris Montparnasse</td>\n",
       "      <td>4113</td>\n",
       "    </tr>\n",
       "    <tr>\n",
       "      <th>6</th>\n",
       "      <td>Paris Saint-Lazare</td>\n",
       "      <td>1595</td>\n",
       "    </tr>\n",
       "  </tbody>\n",
       "</table>\n",
       "</div>"
      ],
      "text/plain": [
       "                 gare  nb_objets\n",
       "0    Paris Austerlitz        239\n",
       "1         Paris Bercy        325\n",
       "2           Paris Est        844\n",
       "3  Paris Gare de Lyon       4358\n",
       "4  Paris Gare du Nord       2101\n",
       "5  Paris Montparnasse       4113\n",
       "6  Paris Saint-Lazare       1595"
      ]
     },
     "execution_count": 106,
     "metadata": {},
     "output_type": "execute_result"
    }
   ],
   "source": [
    "# Connexion à la base de données\n",
    "connexion = sqlite3.connect('bdd.db')\n",
    "\n",
    "# Récupération des données de la table objet\n",
    "query_objet = \"SELECT * FROM objet\"\n",
    "df_objet = pd.read_sql_query(query_objet, connexion)\n",
    "\n",
    "# Récupération des données de la table gare\n",
    "query_gare = \"SELECT * FROM gare\"\n",
    "df_gare = pd.read_sql_query(query_gare, connexion)\n",
    "\n",
    "# Fermeture de la connexion à la base de données\n",
    "connexion.close()\n",
    "\n",
    "# Sélection de l'année et du type d'objet avec des widgets Streamlit\n",
    "annee = '2020'\n",
    "\n",
    "types = df_objet['type'].unique().tolist()\n",
    "types_selectionnes = st.multiselect(\"Sélectionnez le type d'objet :\", types, default=types[:], key=3)\n",
    "\n",
    "# Filtrage des données en fonction de la sélection de l'utilisateur\n",
    "df_objet_filtre = df_objet[(df_objet['type'].isin(types_selectionnes)) & (df_objet['date'].str[-4:] == annee)]\n",
    "df_gare_filtre = df_gare[['gare', 'lat', 'lon', 'frequentation_' + annee]]\n",
    "\n",
    "# Calcul du nombre d'objets trouvés des types sélectionnés pour chaque gare\n",
    "df_nb_objets_par_gare = df_objet_filtre.groupby('gare')['id'].count().reset_index().rename(columns={'id': 'nb_objets'})\n",
    "df_nb_objets_par_gare"
   ]
  }
 ],
 "metadata": {
  "kernelspec": {
   "display_name": "Python 3",
   "language": "python",
   "name": "python3"
  },
  "language_info": {
   "codemirror_mode": {
    "name": "ipython",
    "version": 3
   },
   "file_extension": ".py",
   "mimetype": "text/x-python",
   "name": "python",
   "nbconvert_exporter": "python",
   "pygments_lexer": "ipython3",
   "version": "3.10.8"
  },
  "orig_nbformat": 4
 },
 "nbformat": 4,
 "nbformat_minor": 2
}
