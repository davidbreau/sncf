{
 "cells": [
  {
   "cell_type": "code",
   "execution_count": 28,
   "metadata": {},
   "outputs": [],
   "source": [
    "import requests\n",
    "import sqlite3\n",
    "from datetime import datetime\n",
    "import pandas as pd"
   ]
  },
  {
   "cell_type": "code",
   "execution_count": 27,
   "metadata": {},
   "outputs": [
    {
     "data": {
      "text/plain": [
       "{'nhits': 47085,\n",
       " 'parameters': {'dataset': ['arome-0025-sp1_sp2_paris'],\n",
       "  'rows': 10000,\n",
       "  'start': 0,\n",
       "  'facet': ['timestamp'],\n",
       "  'format': 'json',\n",
       "  'timezone': 'UTC'},\n",
       " 'records': [],\n",
       " 'facet_groups': [{'name': 'timestamp',\n",
       "   'facets': [{'name': '2023',\n",
       "     'count': 47085,\n",
       "     'state': 'displayed',\n",
       "     'path': '2023'}]}]}"
      ]
     },
     "execution_count": 27,
     "metadata": {},
     "output_type": "execute_result"
    }
   ],
   "source": [
    "params = {\n",
    "    'rows' : 10000,\n",
    "    'dataset': ['arome-0025-sp1_sp2_paris'],\n",
    "    'facet' : 'timestamp',\n",
    "    'refine.timestamp': \"2022-04-01T12:00:00Z\"\n",
    "}\n",
    "\n",
    "url = 'https://public.opendatasoft.com/api/records/1.0/search/?'\n",
    "response = requests.get(url, params=params)\n",
    "data = response.json()\n",
    "data"
   ]
  },
  {
   "cell_type": "code",
   "execution_count": 50,
   "metadata": {},
   "outputs": [
    {
     "data": {
      "text/html": [
       "<div>\n",
       "<style scoped>\n",
       "    .dataframe tbody tr th:only-of-type {\n",
       "        vertical-align: middle;\n",
       "    }\n",
       "\n",
       "    .dataframe tbody tr th {\n",
       "        vertical-align: top;\n",
       "    }\n",
       "\n",
       "    .dataframe thead th {\n",
       "        text-align: right;\n",
       "    }\n",
       "</style>\n",
       "<table border=\"1\" class=\"dataframe\">\n",
       "  <thead>\n",
       "    <tr style=\"text-align: right;\">\n",
       "      <th></th>\n",
       "      <th>temperature</th>\n",
       "      <th>date</th>\n",
       "    </tr>\n",
       "  </thead>\n",
       "  <tbody>\n",
       "    <tr>\n",
       "      <th>2</th>\n",
       "      <td>7.5</td>\n",
       "      <td>01/01/2019</td>\n",
       "    </tr>\n",
       "    <tr>\n",
       "      <th>3</th>\n",
       "      <td>5.7</td>\n",
       "      <td>02/01/2019</td>\n",
       "    </tr>\n",
       "    <tr>\n",
       "      <th>4</th>\n",
       "      <td>2.4</td>\n",
       "      <td>03/01/2019</td>\n",
       "    </tr>\n",
       "    <tr>\n",
       "      <th>5</th>\n",
       "      <td>1.5</td>\n",
       "      <td>04/01/2019</td>\n",
       "    </tr>\n",
       "    <tr>\n",
       "      <th>6</th>\n",
       "      <td>2.8</td>\n",
       "      <td>05/01/2019</td>\n",
       "    </tr>\n",
       "    <tr>\n",
       "      <th>...</th>\n",
       "      <td>...</td>\n",
       "      <td>...</td>\n",
       "    </tr>\n",
       "    <tr>\n",
       "      <th>1458</th>\n",
       "      <td>5.5</td>\n",
       "      <td>27/12/2022</td>\n",
       "    </tr>\n",
       "    <tr>\n",
       "      <th>1459</th>\n",
       "      <td>10.0</td>\n",
       "      <td>28/12/2022</td>\n",
       "    </tr>\n",
       "    <tr>\n",
       "      <th>1460</th>\n",
       "      <td>9.8</td>\n",
       "      <td>29/12/2022</td>\n",
       "    </tr>\n",
       "    <tr>\n",
       "      <th>1461</th>\n",
       "      <td>9.6</td>\n",
       "      <td>30/12/2022</td>\n",
       "    </tr>\n",
       "    <tr>\n",
       "      <th>1462</th>\n",
       "      <td>15.1</td>\n",
       "      <td>31/12/2022</td>\n",
       "    </tr>\n",
       "  </tbody>\n",
       "</table>\n",
       "<p>1461 rows × 2 columns</p>\n",
       "</div>"
      ],
      "text/plain": [
       "     temperature        date\n",
       "2            7.5  01/01/2019\n",
       "3            5.7  02/01/2019\n",
       "4            2.4  03/01/2019\n",
       "5            1.5  04/01/2019\n",
       "6            2.8  05/01/2019\n",
       "...          ...         ...\n",
       "1458         5.5  27/12/2022\n",
       "1459        10.0  28/12/2022\n",
       "1460         9.8  29/12/2022\n",
       "1461         9.6  30/12/2022\n",
       "1462        15.1  31/12/2022\n",
       "\n",
       "[1461 rows x 2 columns]"
      ]
     },
     "execution_count": 50,
     "metadata": {},
     "output_type": "execute_result"
    }
   ],
   "source": [
    "df = pd.read_csv('meteo_paris_2019-2022.csv')\n",
    "df = df.drop(columns=['elevation','utc_offset_seconds','timezone','timezone_abbreviation'])\n",
    "df = df.rename(columns={'latitude':'date', 'longitude':'temperature'})\n",
    "df = df.drop([0,1])\n",
    "df['date'] = df['date'].apply(lambda x : x[8:10]+'/'+x[5:7]+'/'+x[0:4])\n",
    "df = df[['temperature', 'date']]\n",
    "df"
   ]
  },
  {
   "cell_type": "code",
   "execution_count": 52,
   "metadata": {},
   "outputs": [],
   "source": [
    "conn = sqlite3.connect('bdd.db')\n",
    "\n",
    "df.to_sql('temperature', conn, if_exists='append', index=False)\n",
    "\n",
    "conn.close()"
   ]
  }
 ],
 "metadata": {
  "kernelspec": {
   "display_name": "Python 3",
   "language": "python",
   "name": "python3"
  },
  "language_info": {
   "codemirror_mode": {
    "name": "ipython",
    "version": 3
   },
   "file_extension": ".py",
   "mimetype": "text/x-python",
   "name": "python",
   "nbconvert_exporter": "python",
   "pygments_lexer": "ipython3",
   "version": "3.10.6"
  },
  "orig_nbformat": 4
 },
 "nbformat": 4,
 "nbformat_minor": 2
}
