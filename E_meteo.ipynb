{
 "cells": [
  {
   "cell_type": "code",
   "execution_count": 3,
   "metadata": {},
   "outputs": [],
   "source": [
    "import requests\n",
    "import sqlite3"
   ]
  },
  {
   "cell_type": "code",
   "execution_count": 12,
   "metadata": {},
   "outputs": [
    {
     "data": {
      "text/plain": [
       "{'error': \"Invalid value for parameter 'refine.timestamp'.\"}"
      ]
     },
     "execution_count": 12,
     "metadata": {},
     "output_type": "execute_result"
    }
   ],
   "source": [
    "params = {\n",
    "    'rows' : 10000,\n",
    "    'dataset': ['arome-0025-sp1_sp2_paris'],\n",
    "    'facet' : 'timestamp',\n",
    "    'refine.timestamp' : \"2023-04-07T12:00:00+00:00\"\n",
    "}\n",
    "\n",
    "url = 'https://public.opendatasoft.com/api/records/1.0/search/?'\n",
    "response = requests.get(url, params=params)\n",
    "data = response.json()\n",
    "data"
   ]
  },
  {
   "cell_type": "code",
   "execution_count": 1,
   "metadata": {},
   "outputs": [
    {
     "name": "stdout",
     "output_type": "stream",
     "text": [
      "{'dataset': ['arome-0025-sp1_sp2']}\n"
     ]
    }
   ],
   "source": [
    "url = 'https://public.opendatasoft.com/api/records/1.0/search/?dataset=arome-0025-sp1_sp2&q='\n",
    "\n",
    "from urllib.parse import urlparse, parse_qs\n",
    "\n",
    "parsed_url = urlparse(url)\n",
    "query_params = parse_qs(parsed_url.query)\n",
    "\n",
    "print(query_params)"
   ]
  }
 ],
 "metadata": {
  "kernelspec": {
   "display_name": "Python 3",
   "language": "python",
   "name": "python3"
  },
  "language_info": {
   "codemirror_mode": {
    "name": "ipython",
    "version": 3
   },
   "file_extension": ".py",
   "mimetype": "text/x-python",
   "name": "python",
   "nbconvert_exporter": "python",
   "pygments_lexer": "ipython3",
   "version": "3.10.6"
  },
  "orig_nbformat": 4
 },
 "nbformat": 4,
 "nbformat_minor": 2
}
