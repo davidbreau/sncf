{
 "cells": [
  {
   "cell_type": "code",
   "execution_count": 6,
   "metadata": {},
   "outputs": [],
   "source": [
    "import sqlite3\n",
    "from B_crud import *"
   ]
  },
  {
   "cell_type": "code",
   "execution_count": null,
   "metadata": {},
   "outputs": [],
   "source": [
    "supprimer_objets()"
   ]
  },
  {
   "cell_type": "code",
   "execution_count": 4,
   "metadata": {},
   "outputs": [],
   "source": [
    "supprimer_gares()"
   ]
  },
  {
   "cell_type": "code",
   "execution_count": null,
   "metadata": {},
   "outputs": [],
   "source": [
    "creer_gare('Paris Nord', 0.0, 0.0)"
   ]
  },
  {
   "cell_type": "code",
   "execution_count": 5,
   "metadata": {},
   "outputs": [
    {
     "name": "stdout",
     "output_type": "stream",
     "text": [
      "{'dataset': ['referentiel-gares-voyageurs'], 'q': ['paris'], 'sort': ['gare_alias_libelle_noncontraint'], 'facet': ['departement_libellemin', 'segmentdrg_libelle', 'gare_agencegc_libelle', 'gare_regionsncf_libelle', 'gare_ug_libelle'], 'refine.gare_ug_libelle': ['UG Paris-Est']}\n"
     ]
    }
   ],
   "source": [
    "url = 'https://ressources.data.sncf.com/api/records/1.0/search/?dataset=referentiel-gares-voyageurs&q=paris&sort=gare_alias_libelle_noncontraint&facet=departement_libellemin&facet=segmentdrg_libelle&facet=gare_agencegc_libelle&facet=gare_regionsncf_libelle&facet=gare_ug_libelle&refine.gare_ug_libelle=UG+Paris-Est'\n",
    "\n",
    "from urllib.parse import urlparse, parse_qs\n",
    "\n",
    "parsed_url = urlparse(url)\n",
    "query_params = parse_qs(parsed_url.query)\n",
    "\n",
    "print(query_params)"
   ]
  }
 ],
 "metadata": {
  "kernelspec": {
   "display_name": "Python 3",
   "language": "python",
   "name": "python3"
  },
  "language_info": {
   "codemirror_mode": {
    "name": "ipython",
    "version": 3
   },
   "file_extension": ".py",
   "mimetype": "text/x-python",
   "name": "python",
   "nbconvert_exporter": "python",
   "pygments_lexer": "ipython3",
   "version": "3.10.6"
  },
  "orig_nbformat": 4
 },
 "nbformat": 4,
 "nbformat_minor": 2
}
